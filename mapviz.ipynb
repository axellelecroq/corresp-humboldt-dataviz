{
 "cells": [
  {
   "cell_type": "code",
   "execution_count": 13,
   "id": "373f83d6",
   "metadata": {},
   "outputs": [
    {
     "name": "stdout",
     "output_type": "stream",
     "text": [
      "The autoreload extension is already loaded. To reload it, use:\n",
      "  %reload_ext autoreload\n"
     ]
    }
   ],
   "source": [
    "%load_ext autoreload\n",
    "%autoreload 2\n",
    "%reload_ext autoreload"
   ]
  },
  {
   "cell_type": "code",
   "execution_count": 12,
   "id": "a2465efd",
   "metadata": {},
   "outputs": [
    {
     "name": "stdout",
     "output_type": "stream",
     "text": [
      "Collecting gender_guesser\n",
      "  Downloading gender_guesser-0.4.0-py2.py3-none-any.whl (379 kB)\n",
      "\u001b[K     |████████████████████████████████| 379 kB 137 kB/s eta 0:00:01\n",
      "\u001b[?25hInstalling collected packages: gender-guesser\n",
      "Successfully installed gender-guesser-0.4.0\n"
     ]
    }
   ],
   "source": [
    "#!pip install gender_guesser\n",
    "#!pip install ipyleaflet\n",
    "#!pip install geocoder\n",
    "#!pip install unidecode\n",
    "#!pip install gender_guesser"
   ]
  },
  {
   "cell_type": "markdown",
   "id": "0d29fb02",
   "metadata": {},
   "source": [
    "### Kartenvisualisierung mit einer dynamischen Suche"
   ]
  },
  {
   "cell_type": "code",
   "execution_count": 1,
   "id": "d68e38bf",
   "metadata": {},
   "outputs": [
    {
     "data": {
      "application/vnd.jupyter.widget-view+json": {
       "model_id": "7c371a66d957450ca89a80bbf2b57889",
       "version_major": 2,
       "version_minor": 0
      },
      "text/plain": [
       "HBox(children=(Checkbox(value=False, description='to AvH', indent=False), Checkbox(value=False, description='b…"
      ]
     },
     "metadata": {},
     "output_type": "display_data"
    }
   ],
   "source": [
    "from ipywidgets import HBox\n",
    "from widgets import createCheckBox\n",
    "from prepare_data import getJSON\n",
    "from mapviz import *\n",
    "import numpy as np\n",
    "\n",
    "data = getJSON('data/records.json')\n",
    " \n",
    "an = createCheckBox(\"to AvH\", False)\n",
    "von = createCheckBox(\"by AvH\", False)\n",
    "\n",
    "display(HBox([an, von]))\n",
    "an.observe(an_change)\n",
    "von.observe(von_change)"
   ]
  },
  {
   "cell_type": "markdown",
   "id": "3a18c2bb",
   "metadata": {},
   "source": [
    "### Kartenvisualisierung mit Suche nach Datum"
   ]
  },
  {
   "cell_type": "code",
   "execution_count": 20,
   "id": "85e96925",
   "metadata": {},
   "outputs": [
    {
     "data": {
      "application/vnd.jupyter.widget-view+json": {
       "model_id": "d44266ddffb144aba0313d48175e931e",
       "version_major": 2,
       "version_minor": 0
      },
      "text/plain": [
       "HBox(children=(Dropdown(options=('00-0', '1751', '1787', '1788', '1789', '1790', '1791', '1792', '1793', '1794…"
      ]
     },
     "metadata": {},
     "output_type": "display_data"
    },
    {
     "name": "stdout",
     "output_type": "stream",
     "text": [
      "{'key': 'H0005221', 'geoname_id': '2950159', 'address': 'Berlin', 'coordinates': [13.41053, 52.52437]}\n",
      "{'key': 'H0005221', 'geoname_id': '2950159', 'address': 'Berlin', 'coordinates': [13.41053, 52.52437]}\n",
      "{'key': 'H0005309', 'geoname_id': '2946447', 'address': 'Bonn', 'coordinates': [7.09549, 50.73438]}\n",
      "{'key': 'H0005221', 'geoname_id': '2950159', 'address': 'Berlin', 'coordinates': [13.41053, 52.52437]}\n",
      "{'key': 'H0008129', 'geoname_id': '2988507', 'address': 'Paris', 'coordinates': [2.3488, 48.85341]}\n",
      "{'key': 'H0008129', 'geoname_id': '2988507', 'address': 'Paris', 'coordinates': [2.3488, 48.85341]}\n",
      "{'key': 'H0005221', 'geoname_id': '2950159', 'address': 'Berlin', 'coordinates': [13.41053, 52.52437]}\n",
      "{'key': 'H0008129', 'geoname_id': '2988507', 'address': 'Paris', 'coordinates': [2.3488, 48.85341]}\n",
      "{'key': 'H0008129', 'geoname_id': '2988507', 'address': 'Paris', 'coordinates': [2.3488, 48.85341]}\n",
      "{'key': 'H0011492', 'geoname_id': '2643743', 'address': 'London', 'coordinates': [-0.12574, 51.50853]}\n",
      "{'geoname_id': 498817, 'address': 'St Petersburg', 'coordinates': ['30.31413', '59.93863']}\n",
      "{'key': 'H0008129', 'geoname_id': '2988507', 'address': 'Paris', 'coordinates': [2.3488, 48.85341]}\n",
      "{'geoname_id': None, 'address': None, 'coordinates': [None, None]}\n",
      "{'key': 'H0011439', 'geoname_id': '3936456', 'address': 'Lima', 'coordinates': [-77.02824, -12.04318]}\n",
      "{'key': 'H0008129', 'geoname_id': '2988507', 'address': 'Paris', 'coordinates': [2.3488, 48.85341]}\n",
      "{'key': 'H0005221', 'geoname_id': '2950159', 'address': 'Berlin', 'coordinates': [13.41053, 52.52437]}\n",
      "{'key': 'H0008129', 'geoname_id': '2988507', 'address': 'Paris', 'coordinates': [2.3488, 48.85341]}\n",
      "{'key': 'H0008392', 'geoname_id': '2852458', 'address': 'Potsdam', 'coordinates': [13.06566, 52.39886]}\n",
      "{'key': 'H0005221', 'geoname_id': '2950159', 'address': 'Berlin', 'coordinates': [13.41053, 52.52437]}\n",
      "{'key': 'H0005221', 'geoname_id': '2950159', 'address': 'Berlin', 'coordinates': [13.41053, 52.52437]}\n",
      "{'key': 'H0005221', 'geoname_id': '2950159', 'address': 'Berlin', 'coordinates': [13.41053, 52.52437]}\n",
      "{'key': 'H0005221', 'geoname_id': '2950159', 'address': 'Berlin', 'coordinates': [13.41053, 52.52437]}\n",
      "{'key': 'H0008392', 'geoname_id': '2852458', 'address': 'Potsdam', 'coordinates': [13.06566, 52.39886]}\n",
      "Points on the map represent the coverage_location of letters.\n"
     ]
    },
    {
     "data": {
      "application/vnd.jupyter.widget-view+json": {
       "model_id": "3b85d965737748d9ac9f61c50eb065b7",
       "version_major": 2,
       "version_minor": 0
      },
      "text/plain": [
       "Map(center=[35.52437, -30.41053], close_popup_on_click=False, controls=(ZoomControl(options=['position', 'zoom…"
      ]
     },
     "metadata": {},
     "output_type": "display_data"
    }
   ],
   "source": [
    "from ipywidgets import HBox\n",
    "from search_dynamic import btn_new_search\n",
    "from prepare_data import getJSON\n",
    "from mapviz import *\n",
    "\n",
    "data = getJSON(\"data/records.json\")\n",
    "\n",
    "display(HBox([by_date(data), btn_new_search()]))"
   ]
  },
  {
   "cell_type": "markdown",
   "id": "7ae1ff10",
   "metadata": {},
   "source": [
    "### Histogramm mit dem Anzahl des Briefwechsels durch die Zeit"
   ]
  },
  {
   "cell_type": "code",
   "execution_count": 3,
   "id": "a0d3ca6a",
   "metadata": {},
   "outputs": [
    {
     "data": {
      "application/vnd.jupyter.widget-view+json": {
       "model_id": "f3bf7dc971f445459ca82ed4b3c87ab4",
       "version_major": 2,
       "version_minor": 0
      },
      "text/plain": [
       "HBox(children=(Dropdown(options=(\"Abbadie, Antoine d' (1810-1897)\", 'Abel, Karl von (1788-1859)', 'Abich, Herm…"
      ]
     },
     "metadata": {},
     "output_type": "display_data"
    },
    {
     "data": {
      "image/png": "[encoded data removed]",
      "text/plain": [
       "<Figure size 720x360 with 1 Axes>"
      ]
     },
     "metadata": {
      "needs_background": "light"
     },
     "output_type": "display_data"
    }
   ],
   "source": [
    "from ipywidgets import HBox\n",
    "from search_dynamic import btn_new_search\n",
    "from prepare_data import getJSON\n",
    "import matplotlib.pyplot as plt\n",
    "#from mapviz import *\n",
    "\n",
    "data = getJSON(\"data/records.json\")\n",
    "\n",
    "def person_change(change): \n",
    "    if change['type'] == 'change' and change['name'] == 'value':\n",
    "        person = change['new']\n",
    "        results = []\n",
    "        # get the corresponding letters\n",
    "        for i in data:\n",
    "            try : \n",
    "                if change['new'] in i[\"creator\"] or change['new'] in i[\"subject\"]:\n",
    "                    results.append(i)\n",
    "            except: pass\n",
    "        \n",
    "        # from corresponding letters, get and transform the data to build the histogramm\n",
    "        liste = []\n",
    "        for i in results:\n",
    "            try :\n",
    "                if int(i['date'][:4]) <1859:\n",
    "                    liste.append((int(i['date'][:4]), int(1)))\n",
    "            except:pass\n",
    "            \n",
    "            \n",
    "        # create the histogramm\n",
    "        title = 'Anzahl des Briefwechsels zwischen AvH(1769-1859) und ' + person\n",
    "        x_coords = [coord[0] for coord in liste]\n",
    "        y_coords = [coord[1] for coord in liste]\n",
    "        fig= plt.figure(figsize=(10,5))\n",
    "        plt.hist(x_coords, bins=30)\n",
    "        fig.suptitle(title, fontsize=12)\n",
    "        plt.xlabel('Jahr', fontsize=12)\n",
    "        plt.ylabel('Anzahl der Briefe', fontsize=12)\n",
    "        plt.show()\n",
    "\n",
    "\n",
    "def by_person(data:dict):\n",
    "    \"\"\"\n",
    "    Function that creates a dropdown menu of all persons \n",
    "    who have received and/or sent at least one letter \n",
    "    for which a date is recorded\n",
    "    :param data: dict\n",
    "    :return: dropdown menu\n",
    "    :rtype: widget\n",
    "    \"\"\"\n",
    "    # Get the letters which have a recorded date\n",
    "    with_date= []\n",
    "    for i in data:\n",
    "        try:\n",
    "            if bool(i['date']) == True:\n",
    "                with_date.append(i)\n",
    "        except:pass\n",
    "        \n",
    "    # Get all people who received or sent a letter    \n",
    "    creators = avoidTupleInList(nested_lookup('creator', with_date))\n",
    "    subjects = avoidTupleInList(nested_lookup('subject', with_date))\n",
    "    people = []\n",
    "    \n",
    "    # Delete Humboldt from creators' and subjects' lists\n",
    "    for i in creators:\n",
    "        if '[' in i :\n",
    "            i = i.split(' [vermutlich]')[0]\n",
    "        if 'Humboldt' not in i:\n",
    "            people.append(i)\n",
    "    for i in subjects:\n",
    "        if 'Humboldt' not in i and i not in people:\n",
    "            people.append(i)\n",
    "\n",
    "    #Create dropdown Menu\n",
    "    dropdown = createDropdown('', people)\n",
    "    dropdown.observe(person_change)\n",
    "    return dropdown \n",
    "\n",
    "display(HBox([by_person(data), btn_new_search()]))"
   ]
  },
  {
   "cell_type": "markdown",
   "id": "43cabe06",
   "metadata": {},
   "source": [
    "### Graphik der Alterverteilung"
   ]
  },
  {
   "cell_type": "code",
   "execution_count": 5,
   "id": "33135e75",
   "metadata": {},
   "outputs": [],
   "source": [
    "from prepare_data import getJSON, avoidTupleInList\n",
    "from nested_lookup import nested_lookup\n",
    "import matplotlib.pyplot as plt\n",
    "\n",
    "\n",
    "data = getJSON(\"data/records.json\")\n",
    "years_an = {}\n",
    "years_von = {}\n",
    "    \n",
    "# Briefe AN Humboldt\n",
    "for i in data :\n",
    "    try :\n",
    "        if i[\"date\"] and \"Humboldt\" not in i[\"creator\"] and type(i[\"creator\"]) != list :\n",
    "            if i[\"date\"][:4] not in years_an:\n",
    "                years_an[i[\"date\"][:4]] = []\n",
    "            years_an[i[\"date\"][:4]].append(int(i[\"date\"][:4]) - int(i[\"creator\"].split(\"(\")[1].split(\"-\")[0][:4]))\n",
    "    except: pass \n",
    "\n",
    "# Briefe VON Humboldt     \n",
    "for i in data :\n",
    "    try :\n",
    "        if i[\"date\"] and \"Humboldt\" not in i[\"subject\"] and type(i[\"subject\"]) != list :\n",
    "            if i[\"date\"][:4] not in years_von:\n",
    "                years_von[i[\"date\"][:4]] = []\n",
    "            years_von[i[\"date\"][:4]].append(int(i[\"date\"][:4]) - int(i[\"subject\"].split(\"(\")[1].split(\"-\")[0][:4]))\n",
    "    except: pass "
   ]
  },
  {
   "cell_type": "code",
   "execution_count": 6,
   "id": "20a3dee9",
   "metadata": {},
   "outputs": [],
   "source": [
    "liste_an=[]\n",
    "liste_von=[]\n",
    "\n",
    "for element in years_an.keys():\n",
    "    if (float(element)<1859):\n",
    "        for element1 in years_an[element]: \n",
    "            if (float(element1)>0):\n",
    "                liste_an.append((float(element), float(element1)))\n",
    "                \n",
    "for element in years_von.keys():\n",
    "    if (float(element)<1859):\n",
    "        for element1 in years_von[element]: \n",
    "            if (float(element1)>0):\n",
    "                liste_von.append((float(element), float(element1)))\n"
   ]
  },
  {
   "cell_type": "code",
   "execution_count": 7,
   "id": "616ec9f9",
   "metadata": {},
   "outputs": [
    {
     "data": {
      "image/png": "[encoded data removed]",
      "text/plain": [
       "<Figure size 720x576 with 2 Axes>"
      ]
     },
     "metadata": {
      "needs_background": "light"
     },
     "output_type": "display_data"
    },
    {
     "data": {
      "image/png": "[encoded data removed]",
      "text/plain": [
       "<Figure size 720x576 with 2 Axes>"
      ]
     },
     "metadata": {
      "needs_background": "light"
     },
     "output_type": "display_data"
    }
   ],
   "source": [
    "from ipywidgets import HBox\n",
    "x_coords = [coord[0] for coord in liste_an]\n",
    "y_coords = [coord[1] for coord in liste_an]\n",
    "fig= plt.figure(figsize=(10,8))\n",
    "plt.hist2d(x_coords, y_coords, bins=(40, 40), cmap=plt.cm.Reds)\n",
    "fig.suptitle('Briefe an AvH: Altersverteilung der Versender', fontsize=14)\n",
    "plt.xlabel('Jahr', fontsize=12)\n",
    "plt.ylabel('Alter des Korrespondenzpartners', fontsize=12)\n",
    "plt.colorbar()\n",
    "an_plt = plt.show()\n",
    "\n",
    "\n",
    "von_x_coords = [coord[0] for coord in liste_von]\n",
    "von_y_coords = [coord[1] for coord in liste_von]\n",
    "fig= plt.figure(figsize=(10,8))\n",
    "plt.hist2d(von_x_coords, von_y_coords, bins=(40, 40), cmap=plt.cm.Reds)\n",
    "fig.suptitle('Briefe von AvH: Altersverteilung der Empfänger', fontsize=14)\n",
    "plt.xlabel('Jahr', fontsize=12)\n",
    "plt.ylabel('Alter des Korrespondenzpartners', fontsize=12)\n",
    "plt.colorbar()\n",
    "von_plt = plt.show()\n",
    "\n"
   ]
  },
  {
   "cell_type": "markdown",
   "id": "da233d15",
   "metadata": {},
   "source": [
    "### Histogramm der Häufigkeit des Alters"
   ]
  },
  {
   "cell_type": "code",
   "execution_count": 268,
   "id": "dbf47433",
   "metadata": {},
   "outputs": [
    {
     "data": {
      "image/png": "[encoded data removed]",
      "text/plain": [
       "<Figure size 720x360 with 1 Axes>"
      ]
     },
     "metadata": {},
     "output_type": "display_data"
    }
   ],
   "source": [
    "fig= plt.figure(figsize=(10,5))\n",
    "plt.hist(y_coords, bins=15)\n",
    "fig.suptitle('Häufigkeit des Alters', fontsize=12)\n",
    "plt.xlabel('Alter', fontsize=12)\n",
    "plt.ylabel('#', fontsize=12)\n",
    "plt.show()"
   ]
  },
  {
   "cell_type": "markdown",
   "id": "4fcbdb9d",
   "metadata": {},
   "source": [
    "### Anteil der Korrespondentzpartnerinnen"
   ]
  },
  {
   "cell_type": "code",
   "execution_count": 5,
   "id": "c3a0e8b7",
   "metadata": {},
   "outputs": [
    {
     "name": "stdout",
     "output_type": "stream",
     "text": [
      "4932\n",
      "3925\n",
      "70\n",
      "Anteil der Korrespondenzpartnerinnen :1.78343949044586%\n"
     ]
    },
    {
     "data": {
      "text/plain": [
       "'\\nHumboldt erhielt 8 Briefe von Frauen und schickte 61 an Frauen. \\nViele sind Herzogin, Gräfin oder sogar Königin. \\n2,3 % Korrespondenz von Humboldt wurde an Frauen geschickt. \\n0,7 % ist der Anteil von Briefe an AvH, die von Frauen geschrieben wurde.\\nHumboldt schrieb mehr Briefe an Frauen, als er von ihnen erhielt.\\nAlle Briefe zusammengenommen, entspricht dies 1,8% der AvH-Korrespondenz.\\n\\n'"
      ]
     },
     "execution_count": 5,
     "metadata": {},
     "output_type": "execute_result"
    }
   ],
   "source": [
    "import gender_guesser.detector as gender\n",
    "from mapviz import is_male_name\n",
    "\n",
    "data = getJSON(\"data/records.json\")\n",
    "guess = gender.Detector()\n",
    "\n",
    "count_men = 0\n",
    "count_women = 0\n",
    "data_women = []\n",
    "\n",
    "# Briefe AN AvH\n",
    "for i in data:\n",
    "    try :\n",
    "        if 'Humboldt' not in i['creator'] and 'Unbekannt' not in i['creator'] and type(i['creator']) != list:\n",
    "            firstname = i['creator'].split(' ')[0]\n",
    "            gender =guess.get_gender(firstname)\n",
    "            if gender == 'unknown':\n",
    "                firstname = i['creator'].split(', ')[1].split(' (')[0]\n",
    "                gender =guess.get_gender(firstname)\n",
    "                \n",
    "                if ' ' in firstname :\n",
    "                    firstname = firstname.split(' ')[0]\n",
    "                elif '-' in firstname :\n",
    "                    firstname = firstname.split('-')[0]\n",
    "                    \n",
    "                if is_male_name(firstname) == True:\n",
    "                    gender = 'male'\n",
    "                elif firstname == 'Henriette':\n",
    "                    gender = 'female'\n",
    "                else : \n",
    "                    gender = guess.get_gender(firstname)\n",
    "                    \n",
    "            if 'female' in gender:\n",
    "                count_women +=1\n",
    "                data_women.append(i)\n",
    "            elif gender == 'male' or gender == 'mostly_male' :\n",
    "                count_men +=1\n",
    "\n",
    "    except: pass\n",
    "\n",
    "# Briefe VON AvH\n",
    "for i in data:\n",
    "    try :\n",
    "        if 'Humboldt' not in i['subject'] and 'Unbekannt' not in i['subject'] and type(i['subject']) != list:\n",
    "            firstname = i['subject'].split(' ')[0]\n",
    "            gender =guess.get_gender(firstname)\n",
    "            if gender == 'unknown':\n",
    "                firstname = i['subject'].split(', ')[1].split(' (')[0]\n",
    "                gender =guess.get_gender(firstname)\n",
    "                if ' ' in firstname :\n",
    "                    firstname = firstname.split(' ')[0]\n",
    "                elif '-' in firstname :\n",
    "                    firstname = firstname.split('-')[0]\n",
    "                if is_male_name(firstname) == True:\n",
    "                    gender = 'male'\n",
    "                elif firstname == 'Henriette':\n",
    "                    gender = 'female'\n",
    "                else : \n",
    "                    gender =guess.get_gender(firstname)\n",
    "                    \n",
    "            if 'female' in gender:\n",
    "                count_women +=1\n",
    "                data_women.append(i)\n",
    "\n",
    "            elif gender == 'male' or gender == 'mostly_male' :\n",
    "                count_men +=1\n",
    "\n",
    "    except: pass\n",
    "\n",
    "print(len(data))\n",
    "print(count_men)\n",
    "print(count_women)\n",
    "print('Anteil der Korrespondenzpartnerinnen :' + str(100 * count_women/count_men) + '%')\n",
    "\n",
    "'''\n",
    "Humboldt erhielt 8 Briefe von Frauen und schickte 61 an Frauen. \n",
    "Viele sind Herzogin, Gräfin oder sogar Königin. \n",
    "2,3 % Korrespondenz von Humboldt wurde an Frauen geschickt. \n",
    "0,7 % ist der Anteil von Briefe an AvH, die von Frauen geschrieben wurde.\n",
    "Humboldt schrieb mehr Briefe an Frauen, als er von ihnen erhielt.\n",
    "Alle Briefe zusammengenommen, entspricht dies 1,8% der AvH-Korrespondenz.\n",
    "\n",
    "'''"
   ]
  },
  {
   "cell_type": "markdown",
   "id": "072deeaa",
   "metadata": {},
   "source": [
    "### Korrespondenzpartnerinnen"
   ]
  },
  {
   "cell_type": "code",
   "execution_count": 7,
   "id": "db65cf92",
   "metadata": {},
   "outputs": [
    {
     "data": {
      "application/vnd.jupyter.widget-view+json": {
       "model_id": "d0d3bb1fd4df4690a1fd2ca64ef9ddb7",
       "version_major": 2,
       "version_minor": 0
      },
      "text/plain": [
       "HBox(children=(Dropdown(options=('Ackermann, Louise Victoire (1813-1890)', 'Arnim, Bettina von (1785-1859)', \"…"
      ]
     },
     "metadata": {},
     "output_type": "display_data"
    },
    {
     "name": "stdout",
     "output_type": "stream",
     "text": [
      "Für diese Briefe sind keine Daten verzeichnet. Eine Visualisierung mit einem Histogramm ist nicht möglich. Wenn es möglich, sind die Daten dann auf einer Karte dargestellt. Die Punkte stellen die Lagersort der Briefe dar.\n"
     ]
    },
    {
     "data": {
      "application/vnd.jupyter.widget-view+json": {
       "model_id": "fc55366c9f5a41bbb1582900a49756af",
       "version_major": 2,
       "version_minor": 0
      },
      "text/plain": [
       "Map(center=[35.52437, -30.41053], close_popup_on_click=False, controls=(ZoomControl(options=['position', 'zoom…"
      ]
     },
     "metadata": {},
     "output_type": "display_data"
    },
    {
     "data": {
      "image/png": "[encoded data removed]",
      "text/plain": [
       "<Figure size 720x360 with 1 Axes>"
      ]
     },
     "metadata": {
      "needs_background": "light"
     },
     "output_type": "display_data"
    }
   ],
   "source": [
    "from ipywidgets import HBox\n",
    "from search_dynamic import btn_new_search\n",
    "from prepare_data import getJSON\n",
    "import matplotlib.pyplot as plt\n",
    "from IPython.display import display\n",
    "\n",
    "data = getJSON(\"data/records.json\")\n",
    "\n",
    "def show_contributors(data: list, by : str, first: bool):\n",
    "    m = Map(\n",
    "            center=(35.52437, -30.41053),\n",
    "            zoom=2,\n",
    "            close_popup_on_click=False\n",
    "            )\n",
    "    \n",
    "    cities = {}\n",
    "    marker = None\n",
    "    for i in data:\n",
    "            try :\n",
    "                if i[by][\"address\"] not in cities:\n",
    "                    city = i[by][\"address\"]\n",
    "                    cities[city] = {'message' : '', 'coordinates':[]}\n",
    "                    if 'Humboldt' in i['creator']:\n",
    "                        who = i['creator']\n",
    "                    cities[city][\"message\"] = i['title'] + \"<br><i>\"+ i[\"contributor\"] +\"</i> <br> <a href=\\\"\"+ i[\"identifier\"][1] + \"\\\" target=\\\"_blank\\\">auf Kalliope</a> <hr>\"\n",
    "                    cities[city][\"coordinates\"] = [i[by][\"coordinates\"][1], i[by][\"coordinates\"][0]]\n",
    "                elif i[by][\"address\"] in cities:\n",
    "                    city = i[by][\"address\"]\n",
    "                    cities[city][\"message\"] = cities[city][\"message\"] + \" </b> \" + i[\"title\"] + \"<br><i>\"+ i[\"contributor\"]  + \"</i><br> <a href=\\\"\"+ i[\"identifier\"][1] + \"\\\" target=\\\"_blank\\\">auf Kalliope</a> <hr>\"\n",
    "            except : pass\n",
    "\n",
    "    \n",
    "    for i in cities.keys():\n",
    "            try :\n",
    "                message = HTML()\n",
    "                if cities[i][\"message\"].count(\"<hr>\") <3 :\n",
    "                    message.value = cities[i][\"message\"]\n",
    "                else : \n",
    "                    message.value = cities[i][\"message\"].split('<hr>')[0] + '<hr>' + str(cities[i][\"message\"].count(\"<hr>\")-1) + \" andere Briefe. Es ist aber zu viele Ergebnisse, um alle hier zu zeigen.\"\n",
    "                message.description = i.upper()\n",
    "                marker = Marker(location=(cities[i][\"coordinates\"][0], cities[i][\"coordinates\"][1]))\n",
    "                m.add_layer(marker)\n",
    "                marker.popup = message\n",
    "            except: pass\n",
    "\n",
    "    display(m)\n",
    "    \n",
    "       \n",
    "    \n",
    "def women_change(change): \n",
    "    if change['type'] == 'change' and change['name'] == 'value':\n",
    "        person = change['new']\n",
    "        results = []\n",
    "        # get the corresponding letters\n",
    "        for i in data:\n",
    "            try : \n",
    "                if change['new'] in i[\"creator\"] or change['new'] in i[\"subject\"]:\n",
    "                    results.append(i)\n",
    "            except: pass\n",
    "        \n",
    "        # from corresponding letters, get and transform the data to build the histogramm\n",
    "        liste = []\n",
    "        for i in results:\n",
    "            try :\n",
    "                if int(i['date'][:4]) <1859:\n",
    "                    liste.append((int(i['date'][:4]), int(1)))\n",
    "            except: \n",
    "                pass\n",
    "\n",
    "        print('Für diese Briefe sind keine Daten verzeichnet. Eine Visualisierung mit einem Histogramm ist nicht möglich. Wenn es möglich, sind die Daten dann auf einer Karte dargestellt. Die Punkte stellen die Lagersort der Briefe dar.')\n",
    "        show_contributors(results, 'contributor_location', True)\n",
    "\n",
    "            \n",
    "        # create the histogramm\n",
    "        title = 'Anzahl des Briefwechsels zwischen AvH(1769-1859) und ' + person\n",
    "        x_coords = [coord[0] for coord in liste]\n",
    "        y_coords = [coord[1] for coord in liste]\n",
    "        fig= plt.figure(figsize=(10,5))\n",
    "        plt.hist(x_coords, bins=30)\n",
    "        fig.suptitle(title, fontsize=12)\n",
    "        plt.xlabel('Jahr', fontsize=12)\n",
    "        plt.ylabel('Anzahl der Briefe', fontsize=12)\n",
    "        plt.show()\n",
    "\n",
    "\n",
    "def by_women(data:dict):\n",
    "    \"\"\"\n",
    "    Function that creates a dropdown menu of all persons \n",
    "    who have received and/or sent at least one letter \n",
    "    for which a date is recorded\n",
    "    :param data: dict\n",
    "    :return: dropdown menu\n",
    "    :rtype: widget\n",
    "    \"\"\"\n",
    " \n",
    "    # Get all people who received or sent a letter    \n",
    "    creators = avoidTupleInList(nested_lookup('creator', data))\n",
    "    subjects = avoidTupleInList(nested_lookup('subject', data))\n",
    "    people = []\n",
    "    \n",
    "    # Delete Humboldt from creators' and subjects' lists\n",
    "    for i in creators:\n",
    "        if '[' in i :\n",
    "            i = i.split(' [vermutlich]')[0]\n",
    "        if 'Humboldt' not in i:\n",
    "            people.append(i)\n",
    "    for i in subjects:\n",
    "        if 'Humboldt' not in i and i not in people:\n",
    "            people.append(i)\n",
    "\n",
    "    #Create dropdown Menu\n",
    "    dropdown = createDropdown('', people)\n",
    "    dropdown.observe(women_change)\n",
    "    return dropdown \n",
    "\n",
    "\n",
    "display(HBox([by_women(data_women), btn_new_search()]))"
   ]
  },
  {
   "cell_type": "markdown",
   "id": "1c405110",
   "metadata": {},
   "source": [
    "### Berufe"
   ]
  },
  {
   "cell_type": "code",
   "execution_count": 417,
   "id": "feb0b215",
   "metadata": {},
   "outputs": [
    {
     "name": "stdout",
     "output_type": "stream",
     "text": [
      "1667\n",
      "115\n"
     ]
    }
   ],
   "source": [
    "from prepare_data import getJSON, writeJSON\n",
    "import unidecode\n",
    "\n",
    "data = getJSON(\"data/records.json\") #1667 personnes\n",
    "edh_pers = getJSON(\"data/personen.json\") #2060 personnes\n",
    "\n",
    "creators = avoidTupleInList(nested_lookup('creator', data))\n",
    "subjects = avoidTupleInList(nested_lookup('subject', data))\n",
    "people = [] #Beispiel : Turpin, Pierre Jean François (1775-1840)\n",
    "\n",
    "#unaccented_string = unidecode.unidecode(accented_string)\n",
    "\n",
    "for i in creators:\n",
    "    if '[' in i :\n",
    "        i = i.split(' [vermutlich]')[0]\n",
    "    if 'Humboldt' not in i:\n",
    "        people.append(i)\n",
    "for i in subjects:\n",
    "    if 'Humboldt' not in i and i not in people:\n",
    "        people.append(i)\n",
    "\n",
    "statut = {}\n",
    "for i in people:\n",
    "    try:\n",
    "        if 'Herzog' in i or 'König' in i:\n",
    "            continue\n",
    "            \n",
    "        else :\n",
    "            name = i.split(', ')[0]\n",
    "            firstname = i.split(', ')[1].split(' (')[0]\n",
    "            both = firstname + ' ' + name\n",
    "\n",
    "            #print(name)\n",
    "            for p in edh_pers:\n",
    "                if unidecode.unidecode(name) in unidecode.unidecode(edh_pers[p]['Name']) and unidecode.unidecode(firstname) in unidecode.unidecode(edh_pers[p]['Name']):\n",
    "                    if type(edh_pers[p]['Note']) == dict :\n",
    "                        statut[both]= edh_pers[p]['Note']['#text']\n",
    "                    else :\n",
    "                        statut[both]= edh_pers[p]['Note']\n",
    "\n",
    "    except:pass\n",
    "\n",
    "print(len(people))\n",
    "print(len(statut))\n",
    "#writeJSON('data/statut_people_kalliope.json', statut)\n"
   ]
  },
  {
   "cell_type": "code",
   "execution_count": 418,
   "id": "5c485dd8",
   "metadata": {},
   "outputs": [],
   "source": [
    "statut_pers = getJSON(\"data/statut_people_kalliope.json\")\n",
    "\n",
    "statut_count = {'wissenschaft' : 0 , 'politik' : 0, 'recht' : 0, 'ehefrau' : 0, 'schriftsteller' : 0, 'offizier':0, 'bibliothekar':0, 'architekt':0}\n",
    "\n",
    "wissenschaftler = ['astronom', 'ingenieur', 'botaniker', 'physiker', 'chemie', 'forscher', 'geolog', 'geograph', 'historiker' ]\n",
    "politik = ['staatsman', 'diplomat', 'rechtsminister']\n",
    "recht = ['richter', 'anwalt', 'justizminister']\n",
    "\n",
    "for i in statut_pers:\n",
    "    for p in statut_count:\n",
    "        if p in statut_pers[i].lower():\n",
    "            statut_count[p] +=1\n",
    "        \n",
    "    for beruf in politik:\n",
    "        if beruf in statut_pers[i].lower():\n",
    "            statut_count['politik'] +=1\n",
    "    for beruf in recht:\n",
    "        if beruf in statut_pers[i].lower():\n",
    "            statut_count['recht'] +=1\n",
    "    for beruf in wissenschaftler:\n",
    "        if beruf in statut_pers[i].lower():\n",
    "            statut_count['wissenschaft'] +=1\n",
    "\n"
   ]
  },
  {
   "cell_type": "code",
   "execution_count": 419,
   "id": "a87000f9",
   "metadata": {},
   "outputs": [
    {
     "data": {
      "image/png": "[encoded data removed]",
      "text/plain": [
       "<Figure size 432x288 with 1 Axes>"
      ]
     },
     "metadata": {},
     "output_type": "display_data"
    }
   ],
   "source": [
    "# libraries\n",
    "import matplotlib.pyplot as plt\n",
    "import numpy as np\n",
    "\n",
    "# create dataset\n",
    "height = statut_count.values()\n",
    "bars = statut_count.keys()\n",
    "y_pos = np.arange(len(bars))\n",
    "plt.title('Verteilung des sozio-professionellen Status \\n der AvH-Korrespondenten (Muster :100 Pers.)') \n",
    "\n",
    "# Create horizontal bars\n",
    "plt.barh(y_pos, height)\n",
    "# Create names on the x-axis\n",
    "plt.yticks(y_pos, bars)\n",
    " \n",
    "# Show graphic\n",
    "plt.show()"
   ]
  }
 ],
 "metadata": {
  "kernelspec": {
   "display_name": "Python 3",
   "language": "python",
   "name": "python3"
  },
  "language_info": {
   "codemirror_mode": {
    "name": "ipython",
    "version": 3
   },
   "file_extension": ".py",
   "mimetype": "text/x-python",
   "name": "python",
   "nbconvert_exporter": "python",
   "pygments_lexer": "ipython3",
   "version": "3.8.5"
  }
 },
 "nbformat": 4,
 "nbformat_minor": 5
}
