{
 "cells": [
  {
   "cell_type": "markdown",
   "id": "aa887dd5",
   "metadata": {},
   "source": [
    "#### Needed imports and variables"
   ]
  },
  {
   "cell_type": "code",
   "execution_count": 17,
   "id": "6d3cd57a",
   "metadata": {},
   "outputs": [
    {
     "name": "stdout",
     "output_type": "stream",
     "text": [
      "The autoreload extension is already loaded. To reload it, use:\n",
      "  %reload_ext autoreload\n"
     ]
    }
   ],
   "source": [
    "%load_ext autoreload\n",
    "%autoreload 2\n",
    "%reload_ext autoreload\n",
    "\n",
    "from pivottablejs import pivot_ui\n",
    "import pandas as pd  \n",
    "import json\n",
    "from ipywidgets import Button, HBox, VBox\n",
    "\n",
    "from routes.search_dynamic import *\n",
    "from routes.search_by import *\n",
    "from routes.prepare_data import *\n",
    "from routes.widgets import *\n",
    "\n",
    "\n",
    "d = getJSON(\"data/records.json\")\n",
    "df = pd.json_normalize(d)"
   ]
  },
  {
   "cell_type": "markdown",
   "id": "e92147cf",
   "metadata": {},
   "source": [
    "#### Librairies \n",
    "You may install these librairies to use this notebook, if you already didn't run the requirement of the githubs repository.\n",
    "To install them, remove the # before the lines."
   ]
  },
  {
   "cell_type": "code",
   "execution_count": null,
   "id": "50f81625",
   "metadata": {},
   "outputs": [],
   "source": [
    "#!pip install matplotlib\n",
    "#!pip install ipywidgets\n",
    "#!pip install pandas\n",
    "#!pip install geopy\n",
    "#!pip install pivottablejs\n",
    "#!pip install nested_lookup"
   ]
  },
  {
   "cell_type": "markdown",
   "id": "b2da4cf1",
   "metadata": {},
   "source": [
    "## Show the data\n",
    "The data are from [Kalliope](https://kalliope-verbund.info/), the [catalog of the Bibliothèque nationale de France](https://catalogue.bnf.fr/index.do) and the [American Philosophical Society](https://www.amphilsoc.org/).\n",
    "In the `records.json` file, there are letters from Alexander von Humboldt but also letters which are sent to Alexander von Humboldt."
   ]
  },
  {
   "cell_type": "code",
   "execution_count": null,
   "id": "5cfd7445",
   "metadata": {},
   "outputs": [],
   "source": [
    "pd.DataFrame(df)"
   ]
  },
  {
   "cell_type": "markdown",
   "id": "7cb6bd0c",
   "metadata": {},
   "source": [
    "## Pivot with all the data"
   ]
  },
  {
   "cell_type": "code",
   "execution_count": null,
   "id": "99297c01",
   "metadata": {},
   "outputs": [],
   "source": [
    "pivot_ui(df)"
   ]
  },
  {
   "cell_type": "markdown",
   "id": "33a2a3a3",
   "metadata": {},
   "source": [
    "# Dynamic search\n",
    "The dynamic search allows you to search for a letter using different elements: its date, its sender, its addressee, its place of delivery and finally the institution where the letter is currently stored.\n",
    "The result of the search appears if there is only one letter left in the results or if there are no additional elements that would allow to deepen the search. \n",
    "To start a new search, please click on the \"New search\" button.\n",
    "\n",
    "**What data is used in the search?**\n",
    "The letters from Kalliope, the BnF and APS catalogues and a BBAW search aid listing the institutions holding letters or documents relating to Alexander von Humboldt. This research aid, existing in a single copy and representing the analogous collection of the BBAW, was digitally reproduced by Anne McKinney during her internship within the project \"Travelling Humboldt – Science on the Move\".\n",
    "\n",
    "**How is the result presented?**\n",
    "If only one letter is found in the results, then it is the catalogue page of the institution storing that letter that is shown. If a digitization is available, then it is easy to find the link on the catalogue page to the digitization.\n",
    "If all the elements searched do not yield a single specific letter, then the letters are displayed in table form (dataframe). "
   ]
  },
  {
   "cell_type": "code",
   "execution_count": 22,
   "id": "fc19c75c",
   "metadata": {},
   "outputs": [
    {
     "data": {
      "application/vnd.jupyter.widget-view+json": {
       "model_id": "083ede05b06b4753ae5a2f1d2db59e66",
       "version_major": 2,
       "version_minor": 0
      },
      "text/plain": [
       "HBox(children=(Dropdown(description='Search by', options=('Addressee letters (by AvH)', 'Coverage place', 'Dat…"
      ]
     },
     "metadata": {},
     "output_type": "display_data"
    },
    {
     "data": {
      "application/vnd.jupyter.widget-view+json": {
       "model_id": "1b70489cc196408abdb808cd647c5eff",
       "version_major": 2,
       "version_minor": 0
      },
      "text/plain": [
       "Dropdown(description='Dates', options=('00-0', '1751', '1787', '1788', '1789', '1790', '1791', '1792', '1793',…"
      ]
     },
     "metadata": {},
     "output_type": "display_data"
    },
    {
     "data": {
      "application/vnd.jupyter.widget-view+json": {
       "model_id": "c3a775c389974f598095383fdcdc40ed",
       "version_major": 2,
       "version_minor": 0
      },
      "text/plain": [
       "Dropdown(description='Search by', options=('Addressee letters (by AvH)', 'Coverage place', 'Sender letters (to…"
      ]
     },
     "metadata": {},
     "output_type": "display_data"
    },
    {
     "data": {
      "application/vnd.jupyter.widget-view+json": {
       "model_id": "b320fad595fa466abf9136c08ee6db59",
       "version_major": 2,
       "version_minor": 0
      },
      "text/plain": [
       "Dropdown(description='Places', options=('Bordeaux', 'Cartagena', 'Cumaná', 'Havanna', 'Madrid', 'Morelia', 'Oh…"
      ]
     },
     "metadata": {},
     "output_type": "display_data"
    },
    {
     "data": {
      "text/html": [
       "\n",
       "        <iframe\n",
       "            width=\"1550\"\n",
       "            height=\"750\"\n",
       "            src=\"http://kalliope-verbund.info/DE-611-HS-3660175\"\n",
       "            frameborder=\"0\"\n",
       "            allowfullscreen\n",
       "        ></iframe>\n",
       "        "
      ],
      "text/plain": [
       "<IPython.lib.display.IFrame at 0x7fa04531b670>"
      ]
     },
     "metadata": {},
     "output_type": "display_data"
    }
   ],
   "source": [
    "searching_by = ['Sender letters (to AvH)', 'Addressee letters (by AvH)', 'Stockholding institution', 'Date', 'Coverage place']\n",
    "\n",
    "display(HBox([search(d, searching_by, True), btn_new_search()]))"
   ]
  },
  {
   "cell_type": "markdown",
   "id": "90678358",
   "metadata": {},
   "source": [
    "## Letters to Alexander von Humboldt\n",
    "Actual count of senders to AvH : 582\n"
   ]
  },
  {
   "cell_type": "code",
   "execution_count": 21,
   "id": "22e03c7b",
   "metadata": {},
   "outputs": [
    {
     "data": {
      "application/vnd.jupyter.widget-view+json": {
       "model_id": "a4cf04e16f0743aea4c92841a5c4bed0",
       "version_major": 2,
       "version_minor": 0
      },
      "text/plain": [
       "HBox(children=(Dropdown(options=(\"Abbadie, Antoine d' (1810-1897)\", \"Abbadie, Antoine d' (1810-1897). creator …"
      ]
     },
     "metadata": {},
     "output_type": "display_data"
    }
   ],
   "source": [
    "display(HBox([search_creators(d), btn_new_search()]))"
   ]
  },
  {
   "cell_type": "markdown",
   "id": "81df1386",
   "metadata": {},
   "source": [
    "## Letters from Alexander von Humboldt\n",
    "Actual count of addressees: 570"
   ]
  },
  {
   "cell_type": "code",
   "execution_count": null,
   "id": "f998b0a3",
   "metadata": {},
   "outputs": [],
   "source": [
    "display(HBox([search_recipient(d), btn_new_search()]))"
   ]
  },
  {
   "cell_type": "markdown",
   "id": "f79fcba8",
   "metadata": {},
   "source": [
    "## Search by stockholding institutions\n",
    "\n",
    "#### How many institutions ?\n",
    "With the APS, the BnF, the 70 institutions who put their data on Kalliope and have a letter sent or received by Humboldt and the institutions in the BBAW's research aid, it is possible to search for a letter in just over 310 institutions. \n",
    "\n",
    "#### Information from the BBAW's research aid\n",
    "The BBAW's research aid lists the type and quantity of each type of document related to Alexander von Humboldt that an institution holds. Nevertheless, the BBAW's collection is far from exhaustive and is not up to date with what the institutions listed in it keep. However, it was important for the project to compare the data, to know what was known by the BBAW in the past and the actual online results from the institutions. Thus, in addition to the table representing the various letters held by the selected institution, the information from the research aid is also displayed. Although the precise details have not yet been digitally indexed, it is nevertheless possible to get an overview of the number and type of documents that were kept in this institution. \n",
    "The box number where the document is kept in the BBAW is also shown in parentheses. \n",
    "\n",
    "#### How many documents ?\n",
    "An entry in the database does not necessarily represent a letter, but may present a set of documents. This is often the case with data from the BnF for example. Thus, there may be several results but these results are not representative of the number of letters or individual documents held in the institution. Thus, where possible, it is indicated more precisely what type of document and in what quantity the results contain."
   ]
  },
  {
   "cell_type": "code",
   "execution_count": 26,
   "id": "ede4cb45",
   "metadata": {},
   "outputs": [
    {
     "data": {
      "application/vnd.jupyter.widget-view+json": {
       "model_id": "8a2312cad3ef485f8adf58b372e141fe",
       "version_major": 2,
       "version_minor": 0
      },
      "text/plain": [
       "HBox(children=(Dropdown(options=('Akademie der Künste Berlin, Literaturarchiv', 'Akademie der Wissenschaften d…"
      ]
     },
     "metadata": {},
     "output_type": "display_data"
    },
    {
     "name": "stdout",
     "output_type": "stream",
     "text": [
      "In the analogue collection of the BBAW (K. Nr.172): \n",
      "3 letters by AvH\n",
      "Today in the online catalogues : 0 results\n",
      "{'document': 0, 'letter': 0, 'other': 0}\n"
     ]
    },
    {
     "data": {
      "text/html": [
       "<div>\n",
       "<style scoped>\n",
       "    .dataframe tbody tr th:only-of-type {\n",
       "        vertical-align: middle;\n",
       "    }\n",
       "\n",
       "    .dataframe tbody tr th {\n",
       "        vertical-align: top;\n",
       "    }\n",
       "\n",
       "    .dataframe thead th {\n",
       "        text-align: right;\n",
       "    }\n",
       "</style>\n",
       "<table border=\"1\" class=\"dataframe\">\n",
       "  <thead>\n",
       "    <tr style=\"text-align: right;\">\n",
       "      <th></th>\n",
       "    </tr>\n",
       "  </thead>\n",
       "  <tbody>\n",
       "  </tbody>\n",
       "</table>\n",
       "</div>"
      ],
      "text/plain": [
       "Empty DataFrame\n",
       "Columns: []\n",
       "Index: []"
      ]
     },
     "metadata": {},
     "output_type": "display_data"
    }
   ],
   "source": [
    "display(HBox([search_institutions(d), btn_new_search()]))"
   ]
  },
  {
   "cell_type": "markdown",
   "id": "d5b84382",
   "metadata": {},
   "source": [
    "## Search by places where letters were sent\n",
    "Actual count of places : 351"
   ]
  },
  {
   "cell_type": "code",
   "execution_count": null,
   "id": "cb8e4b0a",
   "metadata": {
    "tags": [
     "outputPrepend"
    ]
   },
   "outputs": [],
   "source": [
    "display(HBox([search_cvg_places(d), btn_new_search()]))"
   ]
  },
  {
   "cell_type": "markdown",
   "id": "68e799f5",
   "metadata": {},
   "source": [
    "## Search by date\n",
    "This is a search by year and not by specific date. \n",
    "When only one letter is recorded then the web page of the online catalogue is shown, otherwise the result is shown in table form. "
   ]
  },
  {
   "cell_type": "code",
   "execution_count": null,
   "id": "79d50391",
   "metadata": {},
   "outputs": [],
   "source": [
    "display(HBox([search_date(d), btn_new_search()]))"
   ]
  }
 ],
 "metadata": {
  "kernelspec": {
   "display_name": "Python 3",
   "language": "python",
   "name": "python3"
  },
  "language_info": {
   "codemirror_mode": {
    "name": "ipython",
    "version": 3
   },
   "file_extension": ".py",
   "mimetype": "text/x-python",
   "name": "python",
   "nbconvert_exporter": "python",
   "pygments_lexer": "ipython3",
   "version": "3.8.5"
  }
 },
 "nbformat": 4,
 "nbformat_minor": 5
}
